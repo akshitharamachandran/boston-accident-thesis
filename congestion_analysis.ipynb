{
 "cells": [
  {
   "cell_type": "markdown",
   "metadata": {},
   "source": [
    "# Congestion Analysis\n",
    "Akshitha Ramachandran <br>"
   ]
  },
  {
   "cell_type": "code",
   "execution_count": null,
   "metadata": {},
   "outputs": [],
   "source": [
    "import numpy as np\n",
    "import pandas as pd\n",
    "import matplotlib\n",
    "import matplotlib.pyplot as plt\n",
    "from sklearn.linear_model import LinearRegression\n",
    "import seaborn as sns\n",
    "import statsmodels.api as sm\n",
    "# plt.style.use('fivethirtyeight')\n",
    "%matplotlib inline"
   ]
  },
  {
   "cell_type": "markdown",
   "metadata": {},
   "source": [
    "# Import/Clean Data\n",
    "- Convert all times to datetime stamps\n",
    "- Add column for years\n",
    "- Add column for months\n",
    "- Add column for hour of day"
   ]
  },
  {
   "cell_type": "code",
   "execution_count": null,
   "metadata": {},
   "outputs": [],
   "source": [
    "accident_data = pd.read_csv(\"updated_accident_data.csv\")"
   ]
  },
  {
   "cell_type": "code",
   "execution_count": null,
   "metadata": {},
   "outputs": [],
   "source": [
    "accident_data['dispatch_ts'] = pd.to_datetime(accident_data.dispatch_ts)"
   ]
  },
  {
   "cell_type": "code",
   "execution_count": null,
   "metadata": {},
   "outputs": [],
   "source": [
    "accident_data['year'] = accident_data['dispatch_ts'].dt.year\n",
    "accident_data['month'] = accident_data['dispatch_ts'].dt.month\n",
    "accident_data['hour'] = accident_data['dispatch_ts'].dt.hour\n",
    "accident_data['weekday'] = accident_data['dispatch_ts'].dt.dayofweek\n",
    "accident_data['day'] = accident_data['dispatch_ts'].dt.day"
   ]
  },
  {
   "cell_type": "code",
   "execution_count": null,
   "metadata": {},
   "outputs": [],
   "source": [
    "years = accident_data['year'].unique()\n",
    "months = accident_data['month'].unique()\n",
    "hours = accident_data['hour'].unique()\n",
    "modes = accident_data['mode_type'].unique()\n",
    "loc_types = accident_data['location_type'].unique()\n",
    "weekdays = accident_data['weekday'].unique()"
   ]
  },
  {
   "cell_type": "markdown",
   "metadata": {},
   "source": [
    "# Identify Most Accident Prone Locations"
   ]
  },
  {
   "cell_type": "code",
   "execution_count": null,
   "metadata": {},
   "outputs": [],
   "source": [
    "accident_data = accident_data.sort_values(['lat', 'long'])"
   ]
  },
  {
   "cell_type": "code",
   "execution_count": null,
   "metadata": {},
   "outputs": [],
   "source": [
    "def num_accidents_df(margin, df):\n",
    "    \n",
    "    # create new row for accident counts\n",
    "    title = \"num_accidents\"\n",
    "    df[title] = 0\n",
    "    \n",
    "    # iterate through rows and count num accidents\n",
    "    for index, row in df.iterrows():\n",
    "        lat = row['lat']\n",
    "        long = row['long']\n",
    "        lat_max = lat + margin\n",
    "        lat_min = lat - margin\n",
    "        long_max = long + margin\n",
    "        long_min = long - margin\n",
    "        num_accidents = len(accident_data[(accident_data['lat'] > lat_min) & \n",
    "                                           (accident_data['lat'] < lat_max) & \n",
    "                                           (accident_data['long'] > long_min) & \n",
    "                                           (accident_data['long'] < long_max)])\n",
    "        df.at[index, title] = num_accidents\n",
    "    \n",
    "    return df"
   ]
  },
  {
   "cell_type": "code",
   "execution_count": null,
   "metadata": {},
   "outputs": [],
   "source": [
    "accident_cluster = num_accidents_df(0.00001, accident_data)"
   ]
  },
  {
   "cell_type": "code",
   "execution_count": null,
   "metadata": {},
   "outputs": [],
   "source": [
    "accident_cluster_trim = accident_cluster.sort_values(['num_accidents'], ascending=False)"
   ]
  },
  {
   "cell_type": "markdown",
   "metadata": {},
   "source": [
    "# Mapping Locations to Streets"
   ]
  },
  {
   "cell_type": "code",
   "execution_count": null,
   "metadata": {},
   "outputs": [],
   "source": [
    "dangerous_locs = accident_cluster_trim.groupby(['lat', 'long']).size()\\\n",
    "                                                .reset_index(name='freq')\\\n",
    "                                                .sort_values(['freq'], ascending=False)"
   ]
  },
  {
   "cell_type": "code",
   "execution_count": null,
   "metadata": {},
   "outputs": [],
   "source": [
    "def map_loc_to_street(name_df, loc_df):\n",
    "    loc_df[\"streets\"] = \"\"\n",
    "    loc_df[\"modes\"] = \"\"\n",
    "    loc_df[\"location_type\"] = \"\"\n",
    "    \n",
    "    for index, row in loc_df.iterrows():\n",
    "        # lat/long of accident point\n",
    "        lat = row['lat']\n",
    "        long = row['long']\n",
    "        \n",
    "        # set of all streets involved in accident\n",
    "        streets = name_df[(name_df[\"lat\"] == lat) & \n",
    "                          (name_df[\"long\"] == long)][\"xstreet1\"].unique()\n",
    "        streets = np.append(streets, name_df[(name_df[\"lat\"] == lat) & \n",
    "                                             (name_df[\"long\"] == long)][\"xstreet2\"].unique())\n",
    "        streets = np.append(streets, name_df[(name_df[\"lat\"] == lat) & \n",
    "                                             (name_df[\"long\"] == long)][\"street\"].unique())\n",
    "        streets = pd.Series(streets).dropna()\n",
    "        \n",
    "        # types of accidents at loc\n",
    "        mode = name_df[(name_df[\"lat\"] == lat) & \n",
    "                          (name_df[\"long\"] == long)][\"mode_type\"].unique()\n",
    "        loc_type = name_df[(name_df[\"lat\"] == lat) & \n",
    "                          (name_df[\"long\"] == long)][\"location_type\"].unique()\n",
    "        \n",
    "        # add to df\n",
    "        loc_df.at[index, \"streets\"] = list(set(streets))\n",
    "        loc_df.at[index, \"modes\"] = mode\n",
    "        loc_df.at[index, \"location_type\"] = loc_type\n",
    "        \n",
    "    return loc_df"
   ]
  },
  {
   "cell_type": "code",
   "execution_count": null,
   "metadata": {},
   "outputs": [],
   "source": [
    "dangerous_locs = map_loc_to_street(accident_data, dangerous_locs)\n",
    "# dangerous_locs = dangerous_locs.reset_index().drop(columns=['index'])"
   ]
  },
  {
   "cell_type": "code",
   "execution_count": null,
   "metadata": {},
   "outputs": [],
   "source": [
    "# Export to csv\n",
    "dangerous_locs.to_csv(\"dangerous_location.csv\")"
   ]
  },
  {
   "cell_type": "code",
   "execution_count": null,
   "metadata": {},
   "outputs": [],
   "source": [
    "dangerous_locs = dangerous_locs.head(15)"
   ]
  },
  {
   "cell_type": "code",
   "execution_count": null,
   "metadata": {},
   "outputs": [],
   "source": [
    "dangerous_locs"
   ]
  },
  {
   "cell_type": "markdown",
   "metadata": {},
   "source": [
    "# Aggregate All Accidents"
   ]
  },
  {
   "cell_type": "code",
   "execution_count": null,
   "metadata": {},
   "outputs": [],
   "source": [
    "agg_hour = accident_data.groupby([\"hour\"]).count()['dispatch_ts']\n",
    "agg_hour = agg_hour.rename(columns={'dispatch_ts':'count'})\n",
    "agg_hour = pd.DataFrame(agg_hour)"
   ]
  },
  {
   "cell_type": "markdown",
   "metadata": {},
   "source": [
    "# Load Intersection Data"
   ]
  },
  {
   "cell_type": "code",
   "execution_count": null,
   "metadata": {},
   "outputs": [],
   "source": [
    "def load_intersection(intersection_number):\n",
    "    str_num = str(intersection_number)\n",
    "    file_path = \"Traffic Patterns/Location \"+ str_num +\"/final_loc\"+ str_num +\".csv\"\n",
    "    df = pd.read_csv(file_path)\n",
    "    df['Time'] = pd.to_datetime(df.Time)\n",
    "    df['hour'] = df['Time'].dt.hour\n",
    "    return df"
   ]
  },
  {
   "cell_type": "code",
   "execution_count": null,
   "metadata": {},
   "outputs": [],
   "source": [
    "def prep_intersection_data(df):\n",
    "    agg_df = df.groupby([\"hour\"]).sum()['Total']\n",
    "    agg_df = agg_df.rename(columns={'Total':'count'})\n",
    "    agg_df = pd.DataFrame(agg_df)\n",
    "    return agg_df"
   ]
  },
  {
   "cell_type": "code",
   "execution_count": null,
   "metadata": {},
   "outputs": [],
   "source": [
    "loc0_data = load_intersection(0)\n",
    "loc3_data = load_intersection(3)\n",
    "loc6_data = load_intersection(6)\n",
    "loc9_data = load_intersection(9)\n",
    "loc11_data = load_intersection(11)\n",
    "loc12_data = load_intersection(12)\n",
    "loc14_data = load_intersection(14)\n",
    "loc16_data = load_intersection(16)"
   ]
  },
  {
   "cell_type": "markdown",
   "metadata": {},
   "source": [
    "# Prep Accident Data"
   ]
  },
  {
   "cell_type": "code",
   "execution_count": null,
   "metadata": {},
   "outputs": [],
   "source": [
    "def prep_accident_data(lat, long, margin, mode_type=None):\n",
    "    agg_hour_acc = accident_data.loc[(accident_data['lat'] > (lat - margin)) & \n",
    "                                           (accident_data['lat'] < (lat + margin)) & \n",
    "                                           (accident_data['long'] > (long - margin)) & \n",
    "                                           (accident_data['long'] < (long + margin))]\n",
    "    # filter by mode type\n",
    "    if mode_type:\n",
    "        agg_hour_acc = agg_hour_acc[agg_hour_acc[\"mode_type\"] == mode_type]\n",
    "    \n",
    "    # groupby accident counts per hour\n",
    "    agg_hour_acc = agg_hour_acc.groupby([\"hour\"]).count()['dispatch_ts'].reset_index()\n",
    "    agg_hour_acc = agg_hour_acc.rename(columns={'dispatch_ts':'count'})\n",
    "    agg_hour_acc = pd.DataFrame(agg_hour_acc)\n",
    "    \n",
    "    \n",
    "    # fill any empty hours with 0\n",
    "    x = pd.DataFrame({\"hour\":list(range(24))})\n",
    "    agg_hour_acc_trim = x.set_index('hour').join(agg_hour_acc.set_index('hour')).fillna(0).reset_index()[7:18]\n",
    "    \n",
    "    agg_hour_acc_trim = agg_hour_acc_trim.reset_index().drop(['index'], axis=1)\n",
    "    return agg_hour_acc_trim"
   ]
  },
  {
   "cell_type": "markdown",
   "metadata": {},
   "source": [
    "# Location 0 Analysis"
   ]
  },
  {
   "cell_type": "code",
   "execution_count": null,
   "metadata": {},
   "outputs": [],
   "source": [
    "agg_hour_loc0 = prep_intersection_data(loc0_data)\n",
    "agg_hour_loc0_accident_trim = prep_accident_data(42.332547, -71.072124, 0.00001)\n",
    "agg_hour_loc0_accident_mv_trim = prep_accident_data(42.332547, -71.072124, 0.00001, \"mv\")\n",
    "agg_hour_loc0_accident_ped_trim = prep_accident_data(42.332547, -71.072124, 0.00001, \"ped\")\n",
    "agg_hour_loc0_accident_bike_trim = prep_accident_data(42.332547, -71.072124, 0.00001, \"bike\")"
   ]
  },
  {
   "cell_type": "code",
   "execution_count": null,
   "metadata": {},
   "outputs": [],
   "source": [
    "fig, ax = plt.subplots(1,1, figsize=(8,6))\n",
    "ax.plot(agg_hour_loc0.index, agg_hour_loc0[0],'o-',label=\"congestion\")\n",
    "ax.set_xlabel('Hour')\n",
    "ax.set_ylabel('Frequency')\n",
    "ax.set_title('Total Congestion By Hour of Day: Mass Ave & Melnea Cass Blvd')\n",
    "ax.legend(loc=\"upper right\")\n",
    "fig, ax = plt.subplots(1,1, figsize=(8,6))\n",
    "ax.plot(agg_hour_loc0_accident_trim['hour'], agg_hour_loc0_accident_trim['count'],'o-', label=\"All\")\n",
    "ax.plot(agg_hour_loc0_accident_mv_trim['hour'], agg_hour_loc0_accident_mv_trim['count'],'o-', label=\"MV\")\n",
    "ax.plot(agg_hour_loc0_accident_ped_trim['hour'], agg_hour_loc0_accident_ped_trim['count'],'o-', label=\"Ped\")\n",
    "ax.plot(agg_hour_loc0_accident_bike_trim['hour'], agg_hour_loc0_accident_bike_trim['count'],'o-', label=\"Bike\")\n",
    "ax.set_xlabel('Hour')\n",
    "ax.set_ylabel('Frequency')\n",
    "ax.set_title('Accident Counts by Type Across Hour of Day: Mass Ave & Melnea Cass Blvd')\n",
    "ax.legend(loc=\"upper right\")"
   ]
  },
  {
   "cell_type": "markdown",
   "metadata": {},
   "source": [
    "# Location 3 Analysis"
   ]
  },
  {
   "cell_type": "code",
   "execution_count": null,
   "metadata": {},
   "outputs": [],
   "source": [
    "agg_hour_loc3 = prep_intersection_data(loc3_data)\n",
    "agg_hour_loc3_accident_trim = prep_accident_data(42.328160, -71.096990, 0.00001)\n",
    "agg_hour_loc3_accident_mv_trim = prep_accident_data(42.328160, -71.096990, 0.00001, \"mv\")\n",
    "agg_hour_loc3_accident_ped_trim = prep_accident_data(42.328160, -71.096990, 0.00001, \"ped\")\n",
    "agg_hour_loc3_accident_bike_trim = prep_accident_data(42.328160, -71.096990, 0.00001, \"bike\")"
   ]
  },
  {
   "cell_type": "code",
   "execution_count": null,
   "metadata": {},
   "outputs": [],
   "source": [
    "fig, ax = plt.subplots(1,1, figsize=(8,6))\n",
    "ax.plot(agg_hour_loc3.index, agg_hour_loc3[0],'o-',label=\"congestion\")\n",
    "ax.set_xlabel('Hour')\n",
    "ax.set_ylabel('Frequency')\n",
    "ax.set_title('Total Congestion By Hour of Day: Columbus Ave & Cedar St')\n",
    "ax.legend(loc=\"upper right\")\n",
    "fig, ax = plt.subplots(1,1, figsize=(8,6))\n",
    "ax.plot(agg_hour_loc3_accident_trim['hour'], agg_hour_loc3_accident_trim['count'],'o-', label=\"All\")\n",
    "ax.plot(agg_hour_loc3_accident_mv_trim['hour'], agg_hour_loc3_accident_mv_trim['count'],'o-', label=\"MV\")\n",
    "ax.plot(agg_hour_loc3_accident_ped_trim['hour'], agg_hour_loc3_accident_ped_trim['count'],'o-', label=\"Ped\")\n",
    "ax.plot(agg_hour_loc3_accident_bike_trim['hour'], agg_hour_loc3_accident_bike_trim['count'],'o-', label=\"Bike\")\n",
    "ax.set_xlabel('Hour')\n",
    "ax.set_ylabel('Frequency')\n",
    "ax.set_title('Accident Counts by Type Across Hour of Day: Columbus Ave & Cedar St')\n",
    "ax.legend(loc=\"upper right\")"
   ]
  },
  {
   "cell_type": "markdown",
   "metadata": {},
   "source": [
    "# Location 6 Analysis"
   ]
  },
  {
   "cell_type": "code",
   "execution_count": null,
   "metadata": {},
   "outputs": [],
   "source": [
    "agg_hour_loc6 = prep_intersection_data(loc6_data)\n",
    "agg_hour_loc6_accident_trim = prep_accident_data(42.30545103, -71.08057209, 0.00001)\n",
    "agg_hour_loc6_accident_mv_trim = prep_accident_data(42.30545103, -71.08057209, 0.00001, \"mv\")\n",
    "agg_hour_loc6_accident_ped_trim = prep_accident_data(42.30545103, -71.08057209, 0.00001, \"ped\")\n",
    "agg_hour_loc6_accident_bike_trim = prep_accident_data(42.30545103, -71.08057209, 0.00001, \"bike\")"
   ]
  },
  {
   "cell_type": "code",
   "execution_count": null,
   "metadata": {},
   "outputs": [],
   "source": [
    "fig, ax = plt.subplots(1,1, figsize=(8,6))\n",
    "ax.plot(agg_hour_loc6.index, agg_hour_loc6[0],'o-',label=\"congestion\")\n",
    "ax.set_xlabel('Hour')\n",
    "ax.set_ylabel('Frequency')\n",
    "ax.set_title('Total Congestion By Hour of Day: Washington St & Columbia Rd')\n",
    "ax.legend(loc=\"upper right\")\n",
    "fig, ax = plt.subplots(1,1, figsize=(8,6))\n",
    "ax.plot(agg_hour_loc6_accident_trim['hour'], agg_hour_loc6_accident_trim['count'],'o-', label=\"All\")\n",
    "ax.plot(agg_hour_loc6_accident_mv_trim['hour'], agg_hour_loc6_accident_mv_trim['count'],'o-', label=\"MV\")\n",
    "ax.plot(agg_hour_loc6_accident_ped_trim['hour'], agg_hour_loc6_accident_ped_trim['count'],'o-', label=\"Ped\")\n",
    "ax.plot(agg_hour_loc6_accident_bike_trim['hour'], agg_hour_loc6_accident_bike_trim['count'],'o-', label=\"Bike\")\n",
    "ax.set_xlabel('Hour')\n",
    "ax.set_ylabel('Frequency')\n",
    "ax.set_title('Accident Counts by Type Across Hour of Day: Washington St & Columbia Rd')\n",
    "ax.legend(loc=\"upper right\")"
   ]
  },
  {
   "cell_type": "markdown",
   "metadata": {},
   "source": [
    "# Location 9 Analysis"
   ]
  },
  {
   "cell_type": "code",
   "execution_count": null,
   "metadata": {},
   "outputs": [],
   "source": [
    "agg_hour_loc9 = prep_intersection_data(loc9_data)\n",
    "agg_hour_loc9_accident_trim = prep_accident_data(42.33362614, -71.07336417, 0.00001)\n",
    "agg_hour_loc9_accident_mv_trim = prep_accident_data(42.33362614, -71.07336417, 0.00001, \"mv\")\n",
    "agg_hour_loc9_accident_ped_trim = prep_accident_data(42.33362614, -71.07336417, 0.00001, \"ped\")\n",
    "agg_hour_loc9_accident_bike_trim = prep_accident_data(42.33362614, -71.07336417, 0.00001, \"bike\")"
   ]
  },
  {
   "cell_type": "code",
   "execution_count": null,
   "metadata": {},
   "outputs": [],
   "source": [
    "fig, ax = plt.subplots(1,1, figsize=(8,6))\n",
    "ax.plot(agg_hour_loc9.index, agg_hour_loc9[0],'o-',label=\"congestion\")\n",
    "ax.set_xlabel('Hour')\n",
    "ax.set_ylabel('Frequency')\n",
    "ax.set_title('Total Congestion By Hour of Day: Mass Ave & Albany St')\n",
    "ax.legend(loc=\"upper right\")\n",
    "fig, ax = plt.subplots(1,1, figsize=(8,6))\n",
    "ax.plot(agg_hour_loc9_accident_trim['hour'], agg_hour_loc9_accident_trim['count'],'o-', label=\"All\")\n",
    "ax.plot(agg_hour_loc9_accident_mv_trim['hour'], agg_hour_loc9_accident_mv_trim['count'],'o-', label=\"MV\")\n",
    "ax.plot(agg_hour_loc9_accident_ped_trim['hour'], agg_hour_loc9_accident_ped_trim['count'],'o-', label=\"Ped\")\n",
    "ax.plot(agg_hour_loc9_accident_bike_trim['hour'], agg_hour_loc9_accident_bike_trim['count'],'o-', label=\"Bike\")\n",
    "ax.set_xlabel('Hour')\n",
    "ax.set_ylabel('Frequency')\n",
    "ax.set_title('Accident Counts by Type Across Hour of Day: Mass Ave & Albany St')\n",
    "ax.legend(loc=\"upper right\")"
   ]
  },
  {
   "cell_type": "markdown",
   "metadata": {},
   "source": [
    "# Location 11 Analysis"
   ]
  },
  {
   "cell_type": "code",
   "execution_count": null,
   "metadata": {},
   "outputs": [],
   "source": [
    "agg_hour_loc11 = prep_intersection_data(loc11_data)\n",
    "agg_hour_loc11_accident_trim = prep_accident_data(42.350858, -71.089484, 0.00001)\n",
    "agg_hour_loc11_accident_mv_trim = prep_accident_data(42.350858, -71.089484, 0.00001, \"mv\")\n",
    "agg_hour_loc11_accident_ped_trim = prep_accident_data(42.350858, -71.089484, 0.00001, \"ped\")\n",
    "agg_hour_loc11_accident_bike_trim = prep_accident_data(42.350858, -71.089484, 0.00001, \"bike\")"
   ]
  },
  {
   "cell_type": "code",
   "execution_count": null,
   "metadata": {},
   "outputs": [],
   "source": [
    "fig, ax = plt.subplots(1,1, figsize=(8,6))\n",
    "ax.plot(agg_hour_loc11.index, agg_hour_loc11[0],'o-',label=\"congestion\")\n",
    "ax.set_xlabel('Hour')\n",
    "ax.set_ylabel('Frequency')\n",
    "ax.set_title('Total Congestion By Hour of Day: Beacon St & Mass Ave')\n",
    "ax.legend(loc=\"upper right\")\n",
    "fig, ax = plt.subplots(1,1, figsize=(8,6))\n",
    "ax.plot(agg_hour_loc11_accident_trim['hour'], agg_hour_loc11_accident_trim['count'],'o-', label=\"All\")\n",
    "ax.plot(agg_hour_loc11_accident_mv_trim['hour'], agg_hour_loc11_accident_mv_trim['count'],'o-', label=\"mv\")\n",
    "ax.plot(agg_hour_loc11_accident_ped_trim['hour'], agg_hour_loc11_accident_ped_trim['count'],'o-', label=\"Ped\")\n",
    "ax.plot(agg_hour_loc11_accident_bike_trim['hour'], agg_hour_loc11_accident_bike_trim['count'],'o-', label=\"Bike\")\n",
    "ax.set_xlabel('Hour')\n",
    "ax.set_ylabel('Frequency')\n",
    "ax.set_title('Accident Rates by Type Across Hour of Day: Beacon St & Mass Ave')\n",
    "ax.legend(loc=\"upper right\")"
   ]
  },
  {
   "cell_type": "markdown",
   "metadata": {},
   "source": [
    "# Location 12 Analysis"
   ]
  },
  {
   "cell_type": "code",
   "execution_count": null,
   "metadata": {},
   "outputs": [],
   "source": [
    "agg_hour_loc12 = prep_intersection_data(loc12_data)\n",
    "agg_hour_loc12_accident_trim = prep_accident_data(42.298123, -71.087048, 0.00001)\n",
    "agg_hour_loc12_accident_mv_trim = prep_accident_data(42.298123, -71.087048, 0.00001, \"mv\")\n",
    "agg_hour_loc12_accident_ped_trim = prep_accident_data(42.298123, -71.087048, 0.00001, \"ped\")\n",
    "agg_hour_loc12_accident_bike_trim = prep_accident_data(42.298123, -71.087048, 0.00001, \"bike\")"
   ]
  },
  {
   "cell_type": "code",
   "execution_count": null,
   "metadata": {},
   "outputs": [],
   "source": [
    "fig, ax = plt.subplots(1,1, figsize=(8,6))\n",
    "ax.plot(agg_hour_loc12.index, agg_hour_loc12[0],'o-',label=\"congestion\")\n",
    "ax.set_xlabel('Hour')\n",
    "ax.set_ylabel('Frequency')\n",
    "ax.set_title('Total Congestion By Hour of Day: Blue Hill Ave & American Legion Hwy')\n",
    "ax.legend(loc=\"upper right\")\n",
    "fig, ax = plt.subplots(1,1, figsize=(8,6))\n",
    "ax.plot(agg_hour_loc12_accident_trim['hour'], agg_hour_loc12_accident_trim['count'],'o-', label=\"All\")\n",
    "ax.plot(agg_hour_loc12_accident_mv_trim['hour'], agg_hour_loc12_accident_mv_trim['count'],'o-', label=\"mv\")\n",
    "ax.plot(agg_hour_loc12_accident_ped_trim['hour'], agg_hour_loc12_accident_ped_trim['count'],'o-', label=\"Ped\")\n",
    "ax.plot(agg_hour_loc12_accident_bike_trim['hour'], agg_hour_loc12_accident_bike_trim['count'],'o-', label=\"Bike\")\n",
    "ax.set_xlabel('Hour')\n",
    "ax.set_ylabel('Frequency')\n",
    "ax.set_title('Accident Rates by Type Across Hour of Day: Blue Hill Ave & American Legion Hwy')\n",
    "ax.legend(loc=\"upper right\")"
   ]
  },
  {
   "cell_type": "markdown",
   "metadata": {},
   "source": [
    "# Location 14 Analysis"
   ]
  },
  {
   "cell_type": "code",
   "execution_count": null,
   "metadata": {},
   "outputs": [],
   "source": [
    "agg_hour_loc14 = prep_intersection_data(loc14_data)\n",
    "agg_hour_loc14_accident_trim = prep_accident_data(42.33119415,-71.07481518, 0.00001)\n",
    "agg_hour_loc14_accident_mv_trim = prep_accident_data(42.33119415,-71.07481518, 0.00001, \"mv\")\n",
    "agg_hour_loc14_accident_ped_trim = prep_accident_data(42.33119415,-71.07481518, 0.00001, \"ped\")\n",
    "agg_hour_loc14_accident_bike_trim = prep_accident_data(42.33119415,-71.07481518, 0.00001, \"bike\")"
   ]
  },
  {
   "cell_type": "code",
   "execution_count": null,
   "metadata": {},
   "outputs": [],
   "source": [
    "fig, ax = plt.subplots(1,1, figsize=(8,6))\n",
    "ax.plot(agg_hour_loc14.index, agg_hour_loc14[0],'o-',label=\"congestion\")\n",
    "ax.set_xlabel('Hour')\n",
    "ax.set_ylabel('Frequency')\n",
    "ax.set_title('Total Congestion By Hour of Day: Hampden St & Melnea Cass Blvd')\n",
    "ax.legend(loc=\"upper right\")\n",
    "fig, ax = plt.subplots(1,1, figsize=(8,6))\n",
    "ax.plot(agg_hour_loc14_accident_trim['hour'], agg_hour_loc14_accident_trim['count'],'o-', label=\"All\")\n",
    "ax.plot(agg_hour_loc14_accident_mv_trim['hour'], agg_hour_loc14_accident_mv_trim['count'],'o-', label=\"mv\")\n",
    "ax.plot(agg_hour_loc14_accident_ped_trim['hour'], agg_hour_loc14_accident_ped_trim['count'],'o-', label=\"Ped\")\n",
    "ax.plot(agg_hour_loc14_accident_bike_trim['hour'], agg_hour_loc14_accident_bike_trim['count'],'o-', label=\"Bike\")\n",
    "ax.set_xlabel('Hour')\n",
    "ax.set_ylabel('Frequency')\n",
    "ax.set_title('Accident Rates by Type Across Hour of Day: Hampden St & Melnea Cass Blvd')\n",
    "ax.legend(loc=\"upper right\")"
   ]
  },
  {
   "cell_type": "markdown",
   "metadata": {},
   "source": [
    "# Location 16 Analysis"
   ]
  },
  {
   "cell_type": "code",
   "execution_count": null,
   "metadata": {},
   "outputs": [],
   "source": [
    "agg_hour_loc16 = prep_intersection_data(loc16_data)\n",
    "agg_hour_loc16_accident_trim = prep_accident_data(42.30340674,-71.08526661, 0.00001)\n",
    "agg_hour_loc16_accident_mv_trim = prep_accident_data(42.30340674,-71.08526661, 0.00001, \"mv\")\n",
    "agg_hour_loc16_accident_ped_trim = prep_accident_data(42.30340674,-71.08526661, 0.00001, \"ped\")\n",
    "agg_hour_loc16_accident_bike_trim = prep_accident_data(42.30340674,-71.08526661, 0.00001, \"bike\")"
   ]
  },
  {
   "cell_type": "code",
   "execution_count": null,
   "metadata": {},
   "outputs": [],
   "source": [
    "fig, ax = plt.subplots(1,1, figsize=(8,6))\n",
    "ax.plot(agg_hour_loc16.index, agg_hour_loc16[0],'o-',label=\"congestion\")\n",
    "ax.set_xlabel('Hour')\n",
    "ax.set_ylabel('Frequency')\n",
    "ax.set_title('Total Congestion By Hour of Day: Blue Hill Ave & Columbia Rd')\n",
    "ax.legend(loc=\"upper right\")\n",
    "fig, ax = plt.subplots(1,1, figsize=(8,6))\n",
    "ax.plot(agg_hour_loc16_accident_trim['hour'], agg_hour_loc16_accident_trim['count'],'o-', label=\"All\")\n",
    "ax.plot(agg_hour_loc16_accident_mv_trim['hour'], agg_hour_loc16_accident_mv_trim['count'],'o-', label=\"mv\")\n",
    "ax.plot(agg_hour_loc16_accident_ped_trim['hour'], agg_hour_loc16_accident_ped_trim['count'],'o-', label=\"Ped\")\n",
    "ax.plot(agg_hour_loc16_accident_bike_trim['hour'], agg_hour_loc16_accident_bike_trim['count'],'o-', label=\"Bike\")\n",
    "ax.set_xlabel('Hour')\n",
    "ax.set_ylabel('Frequency')\n",
    "ax.set_title('Accident Rates by Type Across Hour of Day: Blue Hill Ave & Columbia Rd')\n",
    "ax.legend(loc=\"upper right\")"
   ]
  },
  {
   "cell_type": "markdown",
   "metadata": {},
   "source": [
    "# OLS"
   ]
  },
  {
   "cell_type": "code",
   "execution_count": null,
   "metadata": {},
   "outputs": [],
   "source": [
    "def prep_OLS_data(df):\n",
    "    df = df.drop(['Time', 'Total'], axis=1)\n",
    "    df = df.groupby([\"hour\"]).sum().reset_index()\n",
    "    if len(df) == 12:\n",
    "        df = df.drop([11])\n",
    "    df = df.drop(['hour'], axis=1)\n",
    "    return df"
   ]
  },
  {
   "cell_type": "code",
   "execution_count": null,
   "metadata": {},
   "outputs": [],
   "source": [
    "def prep_OLS_data_group_turn(df):\n",
    "    df = df.drop(['Time', 'Total'], axis=1)\n",
    "    df = df.groupby([\"hour\"]).sum().reset_index()\n",
    "    if len(df) == 12:\n",
    "        df = df.drop([11])\n",
    "    \n",
    "    right = df[\"Right - N\"] + df[\"Right - E\"] + df[\"Right - S\"] + df[\"Right - W\"]\n",
    "    left = df[\"Left - N\"] + df[\"Left - E\"] + df[\"Left - S\"] + df[\"Left - W\"]\n",
    "    thru = df[\"Thru - N\"] + df[\"Thru - E\"] + df[\"Thru - S\"] + df[\"Thru - W\"]\n",
    "    \n",
    "    new_df = pd.DataFrame({\"Right\":right, \"Left\": left, \"Thru\": thru })\n",
    "    return new_df    "
   ]
  },
  {
   "cell_type": "code",
   "execution_count": null,
   "metadata": {},
   "outputs": [],
   "source": [
    "def prep_OLS_data_group_cardinal(df):\n",
    "    df = df.drop(['Time', 'Total'], axis=1)\n",
    "    df = df.groupby([\"hour\"]).sum().reset_index()\n",
    "    if len(df) == 12:\n",
    "        df = df.drop([11])\n",
    "    \n",
    "    north = df[\"Right - N\"] + df[\"Left - N\"] + df[\"Thru - N\"]\n",
    "    south = df[\"Right - S\"] + df[\"Left - S\"] + df[\"Thru - S\"]\n",
    "    east = df[\"Right - E\"] + df[\"Left - E\"] + df[\"Thru - E\"]\n",
    "    west = df[\"Right - W\"] + df[\"Left - W\"] + df[\"Thru - W\"]\n",
    "    \n",
    "    \n",
    "    new_df = pd.DataFrame({\"North\":north, \"South\": south, \"East\": east, \"West\": west })\n",
    "    return new_df    "
   ]
  },
  {
   "cell_type": "code",
   "execution_count": null,
   "metadata": {},
   "outputs": [],
   "source": [
    "ols_loc0 = prep_OLS_data(loc0_data)\n",
    "ols_loc3 = prep_OLS_data(loc3_data)\n",
    "ols_loc6 = prep_OLS_data(loc6_data)\n",
    "ols_loc9 = prep_OLS_data(loc9_data)\n",
    "ols_loc11 = prep_OLS_data(loc11_data)\n",
    "ols_loc12 = prep_OLS_data(loc12_data)\n",
    "ols_loc14 = prep_OLS_data(loc14_data)\n",
    "ols_loc16 = prep_OLS_data(loc16_data)"
   ]
  },
  {
   "cell_type": "code",
   "execution_count": null,
   "metadata": {},
   "outputs": [],
   "source": [
    "ols_loc0_group_turn = prep_OLS_data_group_turn(loc0_data)\n",
    "ols_loc3_group_turn = prep_OLS_data_group_turn(loc3_data)\n",
    "ols_loc6_group_turn = prep_OLS_data_group_turn(loc6_data)\n",
    "ols_loc9_group_turn = prep_OLS_data_group_turn(loc9_data)\n",
    "ols_loc11_group_turn = prep_OLS_data_group_turn(loc11_data)\n",
    "ols_loc12_group_turn = prep_OLS_data_group_turn(loc12_data)\n",
    "ols_loc14_group_turn = prep_OLS_data_group_turn(loc14_data)\n",
    "ols_loc16_group_turn = prep_OLS_data_group_turn(loc16_data)"
   ]
  },
  {
   "cell_type": "code",
   "execution_count": null,
   "metadata": {},
   "outputs": [],
   "source": [
    "ols_loc0_group_cardinal = prep_OLS_data_group_cardinal(loc0_data)\n",
    "ols_loc3_group_cardinal = prep_OLS_data_group_cardinal(loc3_data)\n",
    "ols_loc6_group_cardinal = prep_OLS_data_group_cardinal(loc6_data)\n",
    "ols_loc9_group_cardinal = prep_OLS_data_group_cardinal(loc9_data)\n",
    "ols_loc11_group_cardinal = prep_OLS_data_group_cardinal(loc11_data)\n",
    "ols_loc12_group_cardinal = prep_OLS_data_group_cardinal(loc12_data)\n",
    "ols_loc14_group_cardinal = prep_OLS_data_group_cardinal(loc14_data)\n",
    "ols_loc16_group_cardinal = prep_OLS_data_group_cardinal(loc16_data)"
   ]
  },
  {
   "cell_type": "code",
   "execution_count": null,
   "metadata": {},
   "outputs": [],
   "source": [
    "y0 = agg_hour_loc0_accident_trim['count']\n",
    "y3 = agg_hour_loc3_accident_trim['count']\n",
    "y6 = agg_hour_loc6_accident_trim['count']\n",
    "y9 = agg_hour_loc9_accident_trim['count']\n",
    "y11 = agg_hour_loc11_accident_trim['count']\n",
    "y12 = agg_hour_loc12_accident_trim['count']\n",
    "y14 = agg_hour_loc14_accident_trim['count']\n",
    "y16 = agg_hour_loc16_accident_trim['count']"
   ]
  },
  {
   "cell_type": "code",
   "execution_count": null,
   "metadata": {},
   "outputs": [],
   "source": [
    "X = ols_loc0.append([ols_loc3, ols_loc6, ols_loc9, ols_loc11, ols_loc12, ols_loc14, ols_loc16])\n",
    "X = X.apply(lambda x: x/x.max(), axis=0)\n",
    "\n",
    "y = y0.append([y3, y6, y9, y11, y12, y14, y16])\n",
    "\n",
    "model = sm.OLS(y,X)\n",
    "results = model.fit()\n",
    "print(results.summary())"
   ]
  },
  {
   "cell_type": "code",
   "execution_count": null,
   "metadata": {},
   "outputs": [],
   "source": [
    "X = ols_loc0_group_turn.append([ols_loc3_group_turn, ols_loc6_group_turn, \n",
    "                               ols_loc9_group_turn, ols_loc11_group_turn, ols_loc12_group_turn,\n",
    "                               ols_loc14_group_turn, ols_loc16_group_turn])\n",
    "X = X.apply(lambda x: x/x.max(), axis=0)\n",
    "\n",
    "y = y0.append([y3, y6, y9, y11, y12, y14, y16])\n",
    "\n",
    "model = sm.OLS(y,X)\n",
    "results = model.fit()\n",
    "print(results.summary())"
   ]
  },
  {
   "cell_type": "code",
   "execution_count": null,
   "metadata": {},
   "outputs": [],
   "source": [
    "X = ols_loc0_group_cardinal.append([ols_loc3_group_cardinal, ols_loc6_group_cardinal, ols_loc9_group_cardinal,\n",
    "                               ols_loc11_group_cardinal, ols_loc12_group_cardinal, ols_loc14_group_cardinal,\n",
    "                               ols_loc6_group_cardinal])\n",
    "X = X.apply(lambda x: x/x.max(), axis=0)\n",
    "\n",
    "y = y0.append([y3, y6, y9, y11, y12, y14, y16])\n",
    "\n",
    "model = sm.OLS(y,X)\n",
    "results = model.fit()\n",
    "print(results.summary())"
   ]
  },
  {
   "cell_type": "markdown",
   "metadata": {},
   "source": [
    "# Visualize Dangerous Locations"
   ]
  },
  {
   "cell_type": "code",
   "execution_count": null,
   "metadata": {},
   "outputs": [],
   "source": [
    "# import decartes\n",
    "import geopandas as gpd\n",
    "from shapely.geometry import Point, Polygon"
   ]
  },
  {
   "cell_type": "code",
   "execution_count": null,
   "metadata": {},
   "outputs": [],
   "source": [
    "dangerous_geo = [Point(xy) for xy in zip(dangerous_locs['long'], dangerous_locs['lat'])]\n",
    "geo_dangerous_df = gpd.GeoDataFrame(dangerous_locs, crs={'init':'epsg:4326'}, geometry = dangerous_geo)"
   ]
  },
  {
   "cell_type": "code",
   "execution_count": null,
   "metadata": {},
   "outputs": [],
   "source": [
    "street_map = gpd.read_file('Boston_Street_Segments/Boston_Street_Segments.shp')\n",
    "fig, ax = plt.subplots(figsize=(15, 15))\n",
    "street_map.plot(ax = ax, alpha = 0.4, color=\"grey\")\n",
    "\n",
    "geo_dangerous_df.plot(ax = ax, markersize = 10, color=\"red\", marker=\"o\", label=\"Dangerous Locations\")\n",
    "plt.legend(prop={'size': 10})\n",
    "plt.show()"
   ]
  },
  {
   "cell_type": "markdown",
   "metadata": {},
   "source": [
    "# Insights\n",
    "- Of the 17 most dangerous locations in Boston: \n",
    "    - 13 are intersections: of these we have data for 7\n",
    "    - 4 are on strees: 3 on I-93 one on JFK surface road"
   ]
  },
  {
   "cell_type": "code",
   "execution_count": null,
   "metadata": {},
   "outputs": [],
   "source": []
  }
 ],
 "metadata": {
  "kernelspec": {
   "display_name": "Python 3",
   "language": "python",
   "name": "python3"
  },
  "language_info": {
   "codemirror_mode": {
    "name": "ipython",
    "version": 3
   },
   "file_extension": ".py",
   "mimetype": "text/x-python",
   "name": "python",
   "nbconvert_exporter": "python",
   "pygments_lexer": "ipython3",
   "version": "3.7.3"
  }
 },
 "nbformat": 4,
 "nbformat_minor": 2
}
